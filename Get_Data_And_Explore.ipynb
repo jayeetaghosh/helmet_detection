{
 "cells": [
  {
   "cell_type": "markdown",
   "metadata": {},
   "source": [
    "# Get data and explore \n",
    "Download dataset from Kaggle using Kaggle [API](https://github.com/Kaggle/kaggle-api). Please see API [credential](https://github.com/Kaggle/kaggle-api#api-credentials) documentation to retrieve and save kaggle.json file on SageMaker within `/home/ec2-user/.kaggle`. For security reason make sure to change mode for accidental other users `chmod 600 ~/.kaggle/kaggle.json`.\n",
    "\n",
    "Make sure to select `pytorch_p36` as the kernel."
   ]
  },
  {
   "cell_type": "markdown",
   "metadata": {},
   "source": [
    "### Import Needed Packages"
   ]
  },
  {
   "cell_type": "code",
   "execution_count": null,
   "metadata": {},
   "outputs": [],
   "source": [
    "import kaggle\n",
    "import imageio\n",
    "from PIL import Image\n",
    "import cv2\n",
    "import numpy as np \n",
    "import pandas as pd \n",
    "import os\n",
    "import subprocess\n",
    "\n",
    "import matplotlib.pyplot as plt\n",
    "import matplotlib.patches as patches\n",
    "%matplotlib inline\n",
    "plt.rcParams['figure.dpi'] = 150\n",
    "\n",
    "import seaborn as sns\n",
    "\n",
    "from IPython.display import Video, display\n",
    "\n",
    "#block those warnings from pandas about setting values on a slice\n",
    "import warnings\n",
    "warnings.filterwarnings('ignore')\n"
   ]
  },
  {
   "cell_type": "markdown",
   "metadata": {},
   "source": [
    "### Download data from Kaggle\n",
    "Next, download dataset from Kaggle using Kaggle [API](https://github.com/Kaggle/kaggle-api). Please see API [credential](https://github.com/Kaggle/kaggle-api#api-credentials) documentation to retrieve and save kaggle.json file on SageMaker within /home/ec2-user/.kaggle. For security reason make sure to change mode for accidental other users.\n",
    "\n",
    "chmod 600 ~/.kaggle/kaggle.json"
   ]
  },
  {
   "cell_type": "code",
   "execution_count": null,
   "metadata": {},
   "outputs": [],
   "source": [
    "# !pip install kaggle\n",
    "# !mkdir /home/ec2-user/.kaggle\n",
    "# !mv kaggle.json /home/ec2-user/.kaggle"
   ]
  },
  {
   "cell_type": "code",
   "execution_count": null,
   "metadata": {},
   "outputs": [],
   "source": [
    "!kaggle competitions download -c nfl-impact-detection"
   ]
  },
  {
   "cell_type": "code",
   "execution_count": null,
   "metadata": {},
   "outputs": [],
   "source": [
    "# !mkdir input output model"
   ]
  },
  {
   "cell_type": "code",
   "execution_count": null,
   "metadata": {},
   "outputs": [],
   "source": [
    "# !unzip nfl-impact-detection.zip"
   ]
  },
  {
   "cell_type": "code",
   "execution_count": null,
   "metadata": {},
   "outputs": [],
   "source": [
    "# !mv images/ input/\n",
    "# !mv train/ input/\n",
    "# !mv image_labels.csv input/\n",
    "# !mv train_labels.csv input/\n",
    "# !rm -r test/\n",
    "# !rm -r nflimpact/\n",
    "# !rm sample_submission.csv test_player_tracking.csv train_player_tracking.csv"
   ]
  },
  {
   "cell_type": "markdown",
   "metadata": {},
   "source": [
    "### Image Data Overview\n",
    "\n",
    "The labeled image dataset consists of 9947 labeled images and a .csv file named image_labels.csv that contains the labeled bounding boxes for all images.  This dataset is provided to support the development of helmet detection algorithms. "
   ]
  },
  {
   "cell_type": "markdown",
   "metadata": {},
   "source": [
    "#### Lets check raw images"
   ]
  },
  {
   "cell_type": "code",
   "execution_count": null,
   "metadata": {},
   "outputs": [],
   "source": [
    "!ls /home/ec2-user/SageMaker/helmet_detection/input/images/ >image_name.txt"
   ]
  },
  {
   "cell_type": "code",
   "execution_count": null,
   "metadata": {},
   "outputs": [],
   "source": [
    "# Read in the image labels file\n",
    "img_name = pd.read_csv('image_name.txt', header=None)\n",
    "img_name.columns =['image'] \n",
    "img_name['view']=img_name['image'].str.split(\"_\", expand=True)[2]\n",
    "img_name['image_id']=img_name['image'].str[0:21]\n",
    "print(img_name.shape)\n",
    "img_name.head()"
   ]
  },
  {
   "cell_type": "code",
   "execution_count": null,
   "metadata": {},
   "outputs": [],
   "source": [
    "print\n",
    "img_name['view'].value_counts()"
   ]
  },
  {
   "cell_type": "code",
   "execution_count": null,
   "metadata": {},
   "outputs": [],
   "source": [
    "len(img_name['image_id'].unique())# there are multiple frames from the same play"
   ]
  },
  {
   "cell_type": "code",
   "execution_count": null,
   "metadata": {},
   "outputs": [],
   "source": [
    "img_name_dp = img_name[img_name.duplicated(['image_id'], keep=False)]\n",
    "img_name_dp.head()"
   ]
  },
  {
   "cell_type": "markdown",
   "metadata": {},
   "source": [
    "#### lets check image label file"
   ]
  },
  {
   "cell_type": "code",
   "execution_count": null,
   "metadata": {
    "_cell_guid": "79c7e3d0-c299-4dcb-8224-4455121ee9b0",
    "_uuid": "d629ff2d2480ee46fbb7e2d37f6b5fab8052498a"
   },
   "outputs": [],
   "source": [
    "# Read in the image labels file\n",
    "img_labels = pd.read_csv('input/image_labels.csv')\n",
    "img_labels['view']=img_labels['image'].str.split(\"_\", expand=True)[2]\n",
    "img_labels['image_id']=img_labels['image'].str[0:20]\n",
    "print(img_labels.shape)\n",
    "img_labels.head()"
   ]
  },
  {
   "cell_type": "code",
   "execution_count": null,
   "metadata": {},
   "outputs": [],
   "source": [
    "# Get a summary on the data type\n",
    "img_labels.info()"
   ]
  },
  {
   "cell_type": "code",
   "execution_count": null,
   "metadata": {},
   "outputs": [],
   "source": [
    "img_labels['view'].value_counts()"
   ]
  },
  {
   "cell_type": "code",
   "execution_count": null,
   "metadata": {},
   "outputs": [],
   "source": [
    "len(img_labels['image_id'].unique())"
   ]
  },
  {
   "cell_type": "code",
   "execution_count": null,
   "metadata": {},
   "outputs": [],
   "source": [
    "img_labels['label'].value_counts()"
   ]
  },
  {
   "cell_type": "code",
   "execution_count": null,
   "metadata": {},
   "outputs": [],
   "source": [
    "img_labels.label.value_counts(normalize=True)"
   ]
  },
  {
   "cell_type": "code",
   "execution_count": null,
   "metadata": {},
   "outputs": [],
   "source": []
  },
  {
   "cell_type": "code",
   "execution_count": null,
   "metadata": {},
   "outputs": [],
   "source": []
  },
  {
   "cell_type": "markdown",
   "metadata": {},
   "source": [
    "#### Let's bring in an image and go ahead and add the labels.  "
   ]
  },
  {
   "cell_type": "code",
   "execution_count": null,
   "metadata": {},
   "outputs": [],
   "source": [
    "# Set the name of our working image\n",
    "img_name = img_labels['image'][100]\n",
    "img_name"
   ]
  },
  {
   "cell_type": "code",
   "execution_count": null,
   "metadata": {},
   "outputs": [],
   "source": [
    "# Define the path to our selected image\n",
    "img_path = f\"input/images/{img_name}\""
   ]
  },
  {
   "cell_type": "code",
   "execution_count": null,
   "metadata": {},
   "outputs": [],
   "source": [
    "# Read in and plot the image\n",
    "img = imageio.imread(img_path) \n",
    "plt.imshow(img)\n",
    "plt.show()"
   ]
  },
  {
   "cell_type": "markdown",
   "metadata": {},
   "source": [
    "Let's write a function for adding the bounding boxes from the label to the image.  Note that the pixel geometry starts with (0,0) in the top left of the image.  To draw the bounding box, we need to specify the top left pixel location and the bottom right pixel location of the image."
   ]
  },
  {
   "cell_type": "code",
   "execution_count": null,
   "metadata": {},
   "outputs": [],
   "source": [
    "### Function to add labels to an image\n",
    "\n",
    "def add_img_boxes(image_name, image_labels):\n",
    "    # Set label colors for bounding boxes\n",
    "    HELMET_COLOR = (0, 0, 0)    # Black\n",
    "\n",
    "    boxes = img_labels.loc[img_labels['image'] == img_name]\n",
    "    for j, box in boxes.iterrows():\n",
    "        print(j)\n",
    "        color = HELMET_COLOR \n",
    "\n",
    "        # Add a box around the helmet\n",
    "        # Note that cv2.rectangle requires us to specify the top left pixel and the bottom right pixel\n",
    "        cv2.rectangle(img, (box.left, box.top), (box.left + box.width, box.top + box.height), color, thickness=3)\n",
    "        \n",
    "    # Display the image with bounding boxes added\n",
    "    plt.imshow(img)\n",
    "    plt.show()"
   ]
  },
  {
   "cell_type": "code",
   "execution_count": null,
   "metadata": {},
   "outputs": [],
   "source": [
    "add_img_boxes(img_name, img_labels)"
   ]
  },
  {
   "cell_type": "markdown",
   "metadata": {},
   "source": [
    "We can now see in the image above that bounding boxes have been added to every helmet.  "
   ]
  },
  {
   "cell_type": "markdown",
   "metadata": {},
   "source": [
    "## Basic EDA"
   ]
  },
  {
   "cell_type": "code",
   "execution_count": null,
   "metadata": {},
   "outputs": [],
   "source": [
    "# !pip install basic-image-eda"
   ]
  },
  {
   "cell_type": "code",
   "execution_count": null,
   "metadata": {},
   "outputs": [],
   "source": [
    "!pwd"
   ]
  },
  {
   "cell_type": "code",
   "execution_count": null,
   "metadata": {},
   "outputs": [],
   "source": [
    "from basic_image_eda import BasicImageEDA\n",
    "\n",
    "data_dir = \"/home/ec2-user/SageMaker/helmet_detection/input/images\"\n",
    "extensions = ['png', 'jpg', 'jpeg']\n",
    "threads = 0\n",
    "dimension_plot = True\n",
    "channel_hist = True\n",
    "nonzero = False\n",
    "hw_division_factor = 1.0\n",
    "\n",
    "BasicImageEDA.explore(data_dir, extensions, threads, dimension_plot, channel_hist, nonzero, hw_division_factor)"
   ]
  },
  {
   "cell_type": "code",
   "execution_count": null,
   "metadata": {},
   "outputs": [],
   "source": []
  },
  {
   "cell_type": "code",
   "execution_count": null,
   "metadata": {},
   "outputs": [],
   "source": []
  },
  {
   "cell_type": "code",
   "execution_count": null,
   "metadata": {},
   "outputs": [],
   "source": []
  }
 ],
 "metadata": {
  "kernelspec": {
   "display_name": "conda_pytorch_p36",
   "language": "python",
   "name": "conda_pytorch_p36"
  },
  "language_info": {
   "codemirror_mode": {
    "name": "ipython",
    "version": 3
   },
   "file_extension": ".py",
   "mimetype": "text/x-python",
   "name": "python",
   "nbconvert_exporter": "python",
   "pygments_lexer": "ipython3",
   "version": "3.6.10"
  }
 },
 "nbformat": 4,
 "nbformat_minor": 4
}
