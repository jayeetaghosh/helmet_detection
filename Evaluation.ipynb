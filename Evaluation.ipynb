{
 "cells": [
  {
   "cell_type": "markdown",
   "metadata": {},
   "source": [
    "# Evaluation\n",
    "Evaluate model prediction for an entire play."
   ]
  },
  {
   "cell_type": "code",
   "execution_count": null,
   "metadata": {},
   "outputs": [],
   "source": [
    "import numpy as np\n",
    "import pandas as pd\n",
    "import matplotlib.pyplot as plt\n",
    "import sys, os\n",
    "sys.path.append('/home/ec2-user/SageMaker/helmet_detection/src')\n",
    "from helmet_detection_model.detector import ObjectDetector"
   ]
  },
  {
   "cell_type": "code",
   "execution_count": null,
   "metadata": {},
   "outputs": [],
   "source": [
    "video_in = '/home/ec2-user/SageMaker/helmet_detection/input/train/57583_000082_Endzone.mp4'\n",
    "model_path = '/home/ec2-user/SageMaker/helmet_detection/model/model_helmet_frcnn.pt'\n",
    "gtfile_name = '/home/ec2-user/SageMaker/helmet_detection/input/train_labels.csv'\n",
    "full_video = True \n",
    "subset_video = 4 \n",
    "conf_thres=0.9\n",
    "iou_threshold = 0.25\n",
    "num_classes = 2"
   ]
  },
  {
   "cell_type": "code",
   "execution_count": null,
   "metadata": {},
   "outputs": [],
   "source": [
    "# %%time\n",
    "# detections, eval_det, fns, fps = ObjectDetector.run_detection_eval_video(video_in, gtfile_name, \n",
    "#                                                                             model_path, full_video,\n",
    "#                                                                             subset_video, conf_thres,\n",
    "#                                                                             iou_threshold)"
   ]
  },
  {
   "cell_type": "code",
   "execution_count": null,
   "metadata": {},
   "outputs": [],
   "source": [
    "# eval_det.describe()"
   ]
  },
  {
   "cell_type": "markdown",
   "metadata": {},
   "source": [
    "## Draw detection errors on frames"
   ]
  },
  {
   "cell_type": "code",
   "execution_count": null,
   "metadata": {},
   "outputs": [],
   "source": [
    "# eval_det.to_csv(\"/home/ec2-user/SageMaker/helmet_detection/output/eval_det.csv\", index=False)\n",
    "# fns.to_csv(\"/home/ec2-user/SageMaker/helmet_detection/output/fns.csv\", index=False)\n",
    "# fps.to_csv(\"/home/ec2-user/SageMaker/helmet_detection/output/fps.csv\", index=False)\n",
    "eval_det = pd.read_csv(\"/home/ec2-user/SageMaker/helmet_detection/output/eval_det.csv\")\n",
    "fns = pd.read_csv(\"/home/ec2-user/SageMaker/helmet_detection/output/fns.csv\")\n",
    "fps = pd.read_csv(\"/home/ec2-user/SageMaker/helmet_detection/output/fps.csv\")\n"
   ]
  },
  {
   "cell_type": "code",
   "execution_count": null,
   "metadata": {},
   "outputs": [],
   "source": [
    "fn_thres = 3\n",
    "fp_thres = 3\n",
    "# # list of frames with fn>=fn_thres and fp>=fp_thres\n",
    "frame_list = eval_det[(eval_det['fn'] >= fn_thres) & (eval_det['fp'] >= fp_thres)]['frame_id'].tolist()\n",
    "## frame_list = ObjectDetector.find_frames_high_fn_fp(eval_det, fn_thres, fp_thres)\n",
    "\n",
    "# # list of frames with no fn and fp\n",
    "# frame_list = eval_det[(eval_det['fn'] == 0) & (eval_det['fp'] == 0)]['frame_id'].tolist()\n",
    "\n",
    "# list of frames with more than 5 fn\n",
    "# frame_list = eval_det[(eval_det['fn'] > 5)]['frame_id'].tolist()\n",
    "print(frame_list)"
   ]
  },
  {
   "cell_type": "code",
   "execution_count": null,
   "metadata": {},
   "outputs": [],
   "source": [
    "fns.shape"
   ]
  },
  {
   "cell_type": "code",
   "execution_count": null,
   "metadata": {},
   "outputs": [],
   "source": [
    "!rm /home/ec2-user/SageMaker/helmet_detection/output/out_images/*"
   ]
  },
  {
   "cell_type": "code",
   "execution_count": null,
   "metadata": {},
   "outputs": [],
   "source": [
    "success = ObjectDetector.draw_detect_error(video_in, gtfile_name, full_video, subset_video, frame_list, fns, fps)\n",
    "success"
   ]
  },
  {
   "cell_type": "code",
   "execution_count": null,
   "metadata": {},
   "outputs": [],
   "source": []
  },
  {
   "cell_type": "markdown",
   "metadata": {},
   "source": [
    "## Get %frame with no fn and fp, fn=1, fn between 2 and 5, and fn more than 5\n"
   ]
  },
  {
   "cell_type": "code",
   "execution_count": null,
   "metadata": {},
   "outputs": [],
   "source": [
    "df_good = eval_det[(eval_det['fn'] == 0) & (eval_det['fp'] == 0)]\n",
    "print(df_good.shape)\n",
    "print(100*(df_good.shape[0]/eval_det.shape[0]))"
   ]
  },
  {
   "cell_type": "code",
   "execution_count": null,
   "metadata": {},
   "outputs": [],
   "source": [
    "df_fn_1 = eval_det[(eval_det['fn'] == 1)]\n",
    "print(df_fn_1.shape)\n",
    "print(100*(df_fn_1.shape[0]/eval_det.shape[0]))"
   ]
  },
  {
   "cell_type": "code",
   "execution_count": null,
   "metadata": {},
   "outputs": [],
   "source": [
    "df_fn_2_5 = eval_det[(eval_det['fn'] >= 2) & (eval_det['fn'] <= 5)]\n",
    "print(df_fn_2_5.shape)\n",
    "print(100*(df_fn_2_5.shape[0]/eval_det.shape[0]))"
   ]
  },
  {
   "cell_type": "code",
   "execution_count": null,
   "metadata": {},
   "outputs": [],
   "source": [
    "df_fn_5 = eval_det[(eval_det['fn'] > 5)]\n",
    "print(df_fn_5.shape)\n",
    "print(100*(df_fn_5.shape[0]/eval_det.shape[0]))"
   ]
  },
  {
   "cell_type": "code",
   "execution_count": null,
   "metadata": {},
   "outputs": [],
   "source": [
    "df_fn_5"
   ]
  },
  {
   "cell_type": "code",
   "execution_count": null,
   "metadata": {},
   "outputs": [],
   "source": [
    "eval_det[\"precision\"] = eval_det.apply(lambda row: row.tp/(row.tp + row.fp), axis=1)\n",
    "eval_det[\"recall\"] = eval_det.apply(lambda row: row.tp/(row.tp + row.fn), axis=1)\n",
    "eval_det[\"f1_score\"] = eval_det.apply(lambda row: (2 * row.precision * row.recall)/(row.precision + row.recall), axis=1)"
   ]
  },
  {
   "cell_type": "code",
   "execution_count": null,
   "metadata": {},
   "outputs": [],
   "source": [
    "eval_det.head()"
   ]
  },
  {
   "cell_type": "code",
   "execution_count": null,
   "metadata": {},
   "outputs": [],
   "source": [
    "# Calculate total number of helmets, tp, fn, fp, precision, recall, and F1 score \n",
    "total_gt = eval_det['num_object_gt'].sum()\n",
    "total_tp = eval_det['tp'].sum()\n",
    "total_fn = eval_det['fn'].sum()\n",
    "total_fp = eval_det['fp'].sum()\n",
    "total_precision = total_tp/(total_tp+total_fp)\n",
    "total_recall = total_tp/(total_tp+total_fn)\n",
    "total_f1 = 2*total_precision*total_recall/(total_precision+total_recall)\n",
    "total_gt, total_tp, total_fn, total_fp, total_precision, total_recall, total_f1\n"
   ]
  },
  {
   "cell_type": "markdown",
   "metadata": {},
   "source": [
    "## Plot R/R and FN/FP for each frame\n"
   ]
  },
  {
   "cell_type": "code",
   "execution_count": null,
   "metadata": {},
   "outputs": [],
   "source": [
    "snap_time=10 "
   ]
  },
  {
   "cell_type": "code",
   "execution_count": null,
   "metadata": {},
   "outputs": [],
   "source": [
    "fig, ax1 = plt.subplots()\n",
    "\n",
    "ax1.set_xlabel('Frame ID')\n",
    "ax1.set_ylabel('Precision / Recall', color='g')\n",
    "ax1.plot(eval_det['frame_id'], eval_det['precision'], color='r')\n",
    "ax1.plot(eval_det['frame_id'], eval_det['recall'], color='g')\n",
    "ax1.set_ylim([0, 1])\n",
    "plt.legend(['precision', 'recall'], loc='upper left')\n",
    "\n",
    "ax2 = ax1.twinx()  # instantiate a second axes that shares the same x-axis\n",
    "\n",
    "ax2.set_ylabel('FN / FP', color='b')  # we already handled the x-label with ax1\n",
    "ax2.plot(eval_det['frame_id'], eval_det['fn'], color='c')\n",
    "ax2.plot(eval_det['frame_id'], eval_det['fp'], color='b')\n",
    "ax2.set_ylim([0, 22])\n",
    "ax2.plot(eval_det['frame_id'], eval_det['num_object_gt'], color='k')\n",
    "\n",
    "ax2.tick_params(axis='y', labelcolor='b')\n",
    "plt.legend(['FN', 'FP', 'Total Helmets'], loc='lower right')\n",
    "fig.tight_layout()  # otherwise the right y-label is slightly clipped\n",
    "plt.axvline(x=snap_time, color='k', linestyle='--')\n",
    "# plt.show()\n",
    "plt.savefig('/home/ec2-user/SageMaker/0Artifact/helmet_detection/output/pr_fnfp.png')"
   ]
  },
  {
   "cell_type": "markdown",
   "metadata": {},
   "source": [
    "## Plot F1 score and FN/FP for each frame"
   ]
  },
  {
   "cell_type": "code",
   "execution_count": null,
   "metadata": {},
   "outputs": [],
   "source": [
    "fig, ax1 = plt.subplots()\n",
    "\n",
    "ax1.set_xlabel('Frame ID')\n",
    "ax1.set_ylabel('F1 score', color='g')\n",
    "ax1.plot(eval_det['frame_id'], eval_det['f1_score'], color='r')\n",
    "ax1.set_ylim([0, 1])\n",
    "plt.legend(['F1 score'], loc='upper left')\n",
    "# ax1.tick_params(axis='y', labelcolor=color)\n",
    "\n",
    "ax2 = ax1.twinx()  # instantiate a second axes that shares the same x-axis\n",
    "\n",
    "ax2.set_ylabel('FN / FP', color='b')  # we already handled the x-label with ax1\n",
    "ax2.plot(eval_det['frame_id'], eval_det['fn'], color='c')\n",
    "ax2.plot(eval_det['frame_id'], eval_det['fp'], color='b')\n",
    "ax2.set_ylim([0, 22])\n",
    "ax2.plot(eval_det['frame_id'], eval_det['num_object_gt'], color='k')\n",
    "\n",
    "ax2.tick_params(axis='y', labelcolor='b')\n",
    "plt.legend(['FN', 'FP', 'Total Helmets'], loc='lower right')\n",
    "fig.tight_layout()  # otherwise the right y-label is slightly clipped\n",
    "plt.axvline(x=snap_time, color='k', linestyle='--')# plt.show()\n",
    "plt.savefig('/home/ec2-user/SageMaker/0Artifact/helmet_detection/output/f1_fnfp.png')\n"
   ]
  },
  {
   "cell_type": "markdown",
   "metadata": {},
   "source": [
    "## Plot stacked bar for tp, fn and fp for each frame\n"
   ]
  },
  {
   "cell_type": "code",
   "execution_count": null,
   "metadata": {},
   "outputs": [],
   "source": [
    "# pal = [\"#9b59b6\", \"#e74c3c\", \"#34495e\", \"#2ecc71\"]\n",
    "pal = [\"g\",\"r\",\"b\"]\n",
    "plt.figure(figsize=(12,8))\n",
    "plt.stackplot(eval_det['frame_id'], eval_det['tp'], eval_det['fn'], eval_det['fp'], \n",
    "              labels=['TP','FN','FP'], colors=pal)\n",
    "plt.plot(eval_det['frame_id'], eval_det['num_object_gt'], color='k', linewidth=6, label='Total Helmets')\n",
    "plt.legend(loc='best', fontsize=12)\n",
    "plt.xlabel('Frame ID', fontsize=12)\n",
    "plt.ylabel(' # of TPs, FNs, FPs', fontsize=12)\n",
    "plt.axvline(x=snap_time, color='k', linestyle='--')\n",
    "plt.savefig('/home/ec2-user/SageMaker/0Artifact/helmet_detection/output/stacked.png')\n"
   ]
  },
  {
   "cell_type": "code",
   "execution_count": null,
   "metadata": {},
   "outputs": [],
   "source": []
  },
  {
   "cell_type": "code",
   "execution_count": null,
   "metadata": {},
   "outputs": [],
   "source": []
  },
  {
   "cell_type": "code",
   "execution_count": null,
   "metadata": {},
   "outputs": [],
   "source": []
  },
  {
   "cell_type": "code",
   "execution_count": null,
   "metadata": {},
   "outputs": [],
   "source": [
    "detections = ObjectDetector.run_detection_video(video_in, model_path, full_video,subset_video, conf_thres)"
   ]
  },
  {
   "cell_type": "code",
   "execution_count": null,
   "metadata": {},
   "outputs": [],
   "source": [
    "vid_title = \"/home/ec2-user/SageMaker/helmet_detection/input/\" + os.path.splitext(os.path.basename(video_in))[0] + '.csv'\n",
    "print(vid_title)\n",
    "detections.to_csv(vid_title, index=None)"
   ]
  },
  {
   "cell_type": "code",
   "execution_count": null,
   "metadata": {},
   "outputs": [],
   "source": []
  },
  {
   "cell_type": "code",
   "execution_count": null,
   "metadata": {},
   "outputs": [],
   "source": []
  },
  {
   "cell_type": "code",
   "execution_count": null,
   "metadata": {},
   "outputs": [],
   "source": []
  },
  {
   "cell_type": "code",
   "execution_count": null,
   "metadata": {},
   "outputs": [],
   "source": [
    "!ls /home/ec2-user/SageMaker/0Artifact/helmet_detection/input/train_labels.csv"
   ]
  },
  {
   "cell_type": "code",
   "execution_count": null,
   "metadata": {},
   "outputs": [],
   "source": [
    "# !mkdir src/helmet_detection_metric/detections\n",
    "# !mkdir src/helmet_detection_metric/groundtruths\n",
    "# !mkdir src/helmet_detection_metric/results"
   ]
  },
  {
   "cell_type": "code",
   "execution_count": null,
   "metadata": {},
   "outputs": [],
   "source": [
    "!python src/helmet_detection_metric/object_detection_metrics.py '/home/ec2-user/SageMaker/0Artifact/helmet_detection/input/train/57583_000082_Endzone.mp4' True 0 4000"
   ]
  },
  {
   "cell_type": "code",
   "execution_count": null,
   "metadata": {},
   "outputs": [],
   "source": []
  },
  {
   "cell_type": "code",
   "execution_count": null,
   "metadata": {},
   "outputs": [],
   "source": [
    "!python src/helmet_detection_metric/pascalvoc.py "
   ]
  },
  {
   "cell_type": "code",
   "execution_count": null,
   "metadata": {},
   "outputs": [],
   "source": []
  }
 ],
 "metadata": {
  "kernelspec": {
   "display_name": "conda_pytorch_p36",
   "language": "python",
   "name": "conda_pytorch_p36"
  },
  "language_info": {
   "codemirror_mode": {
    "name": "ipython",
    "version": 3
   },
   "file_extension": ".py",
   "mimetype": "text/x-python",
   "name": "python",
   "nbconvert_exporter": "python",
   "pygments_lexer": "ipython3",
   "version": "3.6.10"
  }
 },
 "nbformat": 4,
 "nbformat_minor": 4
}
